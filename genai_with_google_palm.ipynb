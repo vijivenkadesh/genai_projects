{
 "cells": [
  {
   "cell_type": "code",
   "execution_count": 1,
   "id": "5539759f-cabe-413b-9ae9-773922fcb7ad",
   "metadata": {},
   "outputs": [],
   "source": [
    "import langchain"
   ]
  },
  {
   "cell_type": "code",
   "execution_count": 5,
   "id": "614a63eb-b83f-4618-988c-5ab67c95c2e9",
   "metadata": {},
   "outputs": [],
   "source": [
    "import os"
   ]
  },
  {
   "cell_type": "code",
   "execution_count": 6,
   "id": "179b72e4-f198-4d37-9ede-fba362c7b399",
   "metadata": {},
   "outputs": [],
   "source": [
    "os.environ['GOOGLE_API_KEY'] = "
   ]
  },
  {
   "cell_type": "code",
   "execution_count": 7,
   "id": "5824a583-ff32-49e7-a902-c0f94b923fe2",
   "metadata": {},
   "outputs": [],
   "source": [
    "from langchain.llms import GooglePalm"
   ]
  },
  {
   "cell_type": "code",
   "execution_count": 8,
   "id": "c1e33c55-20ab-48b5-ba5e-723b7f7aa167",
   "metadata": {},
   "outputs": [],
   "source": [
    "llm = GooglePalm(temperature=0.7)"
   ]
  },
  {
   "cell_type": "code",
   "execution_count": 10,
   "id": "aa379a31-c7b5-4c08-bd6a-8b0b0bbb42f2",
   "metadata": {},
   "outputs": [],
   "source": [
    "from langchain import PromptTemplate, LLMChain"
   ]
  },
  {
   "cell_type": "code",
   "execution_count": 11,
   "id": "7b20d36c-aee4-44c8-8158-6a5e18512841",
   "metadata": {},
   "outputs": [],
   "source": [
    "prompt_template = PromptTemplate(input_variables=['name'], template='Age of {name}')"
   ]
  },
  {
   "cell_type": "code",
   "execution_count": 12,
   "id": "7db17621-bbe4-4337-95b0-ac6fd27f7f7d",
   "metadata": {},
   "outputs": [],
   "source": [
    "llm_chain = LLMChain(prompt=prompt_template, llm=llm)"
   ]
  },
  {
   "cell_type": "code",
   "execution_count": 13,
   "id": "f8ae833f-30f3-4240-955b-98798dac5c6b",
   "metadata": {},
   "outputs": [
    {
     "data": {
      "text/plain": [
       "'71'"
      ]
     },
     "execution_count": 13,
     "metadata": {},
     "output_type": "execute_result"
    }
   ],
   "source": [
    "llm_chain.run('rajnikanth')"
   ]
  },
  {
   "cell_type": "code",
   "execution_count": null,
   "id": "1eaaebe3-b86f-4ef0-bc59-b438c500fd56",
   "metadata": {},
   "outputs": [],
   "source": []
  }
 ],
 "metadata": {
  "kernelspec": {
   "display_name": "genai-langchain",
   "language": "python",
   "name": "genai-langchain"
  },
  "language_info": {
   "codemirror_mode": {
    "name": "ipython",
    "version": 3
   },
   "file_extension": ".py",
   "mimetype": "text/x-python",
   "name": "python",
   "nbconvert_exporter": "python",
   "pygments_lexer": "ipython3",
   "version": "3.11.7"
  }
 },
 "nbformat": 4,
 "nbformat_minor": 5
}
